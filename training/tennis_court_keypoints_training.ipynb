{
 "cells": [
  {
   "cell_type": "markdown",
   "metadata": {},
   "source": [
    "# Download and extract dataset"
   ]
  },
  {
   "cell_type": "code",
   "execution_count": null,
   "metadata": {},
   "outputs": [],
   "source": [
    "# Download dataset from Google Drive\n",
    "\n",
    "import urllib.request\n",
    "\n",
    "url = 'https://drive.usercontent.google.com/download?id=1lhAaeQCmk2y440PmagA0KmIVBIysVMwu&export=download&authuser=0&confirm=t&uuid=3077628e-fc9b-4ef2-8cde-b291040afb30&at=APZUnTU9lSikCSe3NqbxV5MVad5T%3A1708243355040'\n",
    "filename = 'tennis_court_det_dataset.zip'\n",
    "urllib.request.urlretrieve(url, filename)"
   ]
  },
  {
   "cell_type": "code",
   "execution_count": null,
   "metadata": {},
   "outputs": [],
   "source": [
    "# Unzip dataset\n",
    "\n",
    "import zipfile\n",
    "\n",
    "with zipfile.ZipFile(\"tennis_court_det_dataset.zip\", \"r\") as zip_ref:\n",
    "    zip_ref.extractall(\"tennis_court_det_dataset\")\n"
   ]
  },
  {
   "cell_type": "markdown",
   "metadata": {},
   "source": [
    "# Start Code"
   ]
  },
  {
   "cell_type": "code",
   "execution_count": 10,
   "metadata": {},
   "outputs": [],
   "source": [
    "import torch\n",
    "from torch.utils.data import Dataset, DataLoader\n",
    "from torchvision import models, transforms\n",
    "\n",
    "import json\n",
    "import cv2\n",
    "import numpy as np"
   ]
  },
  {
   "cell_type": "code",
   "execution_count": 11,
   "metadata": {},
   "outputs": [],
   "source": [
    "device = torch.device(\"cuda\" if torch.cuda.is_available() else \"cpu\")"
   ]
  },
  {
   "cell_type": "markdown",
   "metadata": {},
   "source": [
    "### Create Torch Dataset"
   ]
  },
  {
   "cell_type": "code",
   "execution_count": 12,
   "metadata": {},
   "outputs": [],
   "source": [
    "class KeypointsDataset(Dataset):\n",
    "    def __init__(self, img_dir, data_file):\n",
    "        self.img_dir = img_dir\n",
    "        with open(data_file, \"r\") as file:\n",
    "            self.data = json.load(file)\n",
    "        \n",
    "        # Transform images to standardize them\n",
    "        self.transforms = transforms.Compose([\n",
    "            transforms.ToPILImage(),\n",
    "            transforms.Resize((224, 224)),\n",
    "            transforms.ToTensor(),\n",
    "            transforms.Normalize(mean=[0.485, 0.456, 0.406], std=[0.229, 0.224, 0.225])\n",
    "        ])\n",
    "    \n",
    "    # Define length of dataset\n",
    "    def __len__(self):\n",
    "        return len(self.data)\n",
    "    \n",
    "    # Read items one by one and return the image and keypoints\n",
    "    def __getitem__(self, idx):\n",
    "        item = self.data[idx]\n",
    "        img = cv2.imread(f\"{self.img_dir}/{item['id']}.png\")\n",
    "        h,w = img.shape[:2]\n",
    "\n",
    "        img = cv2.cvtColor(img, cv2.COLOR_BGR2RGB)\n",
    "        img = self.transforms(img)\n",
    "        kps = np.array(item['kps']).flatten()\n",
    "        kps = kps.astype(np.float32)\n",
    "\n",
    "        kps[::2] *= 224.0 / w # Adjust x coordinates\n",
    "        kps[1::2] *= 224.0 / h # Adjust y coordinates\n",
    "\n",
    "        return img, kps"
   ]
  },
  {
   "cell_type": "code",
   "execution_count": 13,
   "metadata": {},
   "outputs": [],
   "source": [
    "train_dataset = KeypointsDataset(\"tennis_court_det_dataset/data/images\",\"tennis_court_det_dataset/data/data_train.json\")\n",
    "val_dataset = KeypointsDataset(\"tennis_court_det_dataset/data/images\",\"tennis_court_det_dataset/data/data_val.json\")\n",
    "\n",
    "train_loader = DataLoader(train_dataset, batch_size=8, shuffle=True)\n",
    "val_loader = DataLoader(val_dataset, batch_size=8, shuffle=True)"
   ]
  },
  {
   "cell_type": "markdown",
   "metadata": {},
   "source": [
    "### Create model"
   ]
  },
  {
   "cell_type": "code",
   "execution_count": 14,
   "metadata": {},
   "outputs": [],
   "source": [
    "model = models.resnet50(pretrained=True)\n",
    "model.fc =  torch.nn.Linear(model.fc.in_features, 14*2) # Replaces the last layer"
   ]
  },
  {
   "cell_type": "code",
   "execution_count": 15,
   "metadata": {},
   "outputs": [],
   "source": [
    "model = model.to(device)"
   ]
  },
  {
   "cell_type": "markdown",
   "metadata": {},
   "source": [
    "### Train model"
   ]
  },
  {
   "cell_type": "code",
   "execution_count": 16,
   "metadata": {},
   "outputs": [],
   "source": [
    "criterion = torch.nn.MSELoss()\n",
    "optimizer = torch.optim.Adam(model.parameters(), lr=1e-4) # Can modify learning rate"
   ]
  },
  {
   "cell_type": "code",
   "execution_count": null,
   "metadata": {},
   "outputs": [
    {
     "name": "stdout",
     "output_type": "stream",
     "text": [
      "Epoch 0, iter 0, loss: 14418.3203125\n",
      "Epoch 0, iter 10, loss: 13766.9384765625\n",
      "Epoch 0, iter 20, loss: 13910.9345703125\n",
      "Epoch 0, iter 30, loss: 13963.431640625\n",
      "Epoch 0, iter 40, loss: 13672.4736328125\n",
      "Epoch 0, iter 50, loss: 13032.205078125\n",
      "Epoch 0, iter 60, loss: 12857.3173828125\n",
      "Epoch 0, iter 70, loss: 12166.8154296875\n",
      "Epoch 0, iter 80, loss: 11946.3505859375\n",
      "Epoch 0, iter 90, loss: 11678.685546875\n",
      "Epoch 0, iter 100, loss: 11645.51953125\n",
      "Epoch 0, iter 110, loss: 10885.87109375\n",
      "Epoch 0, iter 120, loss: 10093.560546875\n",
      "Epoch 0, iter 130, loss: 9761.4951171875\n",
      "Epoch 0, iter 140, loss: 9180.22265625\n",
      "Epoch 0, iter 150, loss: 9355.4638671875\n",
      "Epoch 0, iter 160, loss: 9411.640625\n",
      "Epoch 0, iter 170, loss: 8959.779296875\n",
      "Epoch 0, iter 180, loss: 8060.12744140625\n",
      "Epoch 0, iter 190, loss: 7894.27587890625\n",
      "Epoch 0, iter 200, loss: 7641.1875\n",
      "Epoch 0, iter 210, loss: 7097.3154296875\n",
      "Epoch 0, iter 220, loss: 7289.990234375\n",
      "Epoch 0, iter 230, loss: 6832.5986328125\n",
      "Epoch 0, iter 240, loss: 6233.7783203125\n",
      "Epoch 0, iter 250, loss: 6397.0048828125\n",
      "Epoch 0, iter 260, loss: 6485.2216796875\n",
      "Epoch 0, iter 270, loss: 5798.57275390625\n",
      "Epoch 0, iter 280, loss: 5800.91748046875\n",
      "Epoch 0, iter 290, loss: 5512.8955078125\n",
      "Epoch 0, iter 300, loss: 5413.7783203125\n",
      "Epoch 0, iter 310, loss: 4831.70263671875\n",
      "Epoch 0, iter 320, loss: 5154.888671875\n",
      "Epoch 0, iter 330, loss: 4884.2802734375\n",
      "Epoch 0, iter 340, loss: 4328.7998046875\n",
      "Epoch 0, iter 350, loss: 4031.097900390625\n",
      "Epoch 0, iter 360, loss: 3860.90185546875\n",
      "Epoch 0, iter 370, loss: 4207.64404296875\n",
      "Epoch 0, iter 380, loss: 4124.736328125\n",
      "Epoch 0, iter 390, loss: 3525.418212890625\n",
      "Epoch 0, iter 400, loss: 3417.06982421875\n",
      "Epoch 0, iter 410, loss: 3204.52587890625\n",
      "Epoch 0, iter 420, loss: 2695.52734375\n",
      "Epoch 0, iter 430, loss: 2792.16455078125\n",
      "Epoch 0, iter 440, loss: 2673.762939453125\n",
      "Epoch 0, iter 450, loss: 2741.965576171875\n",
      "Epoch 0, iter 460, loss: 2289.1416015625\n",
      "Epoch 0, iter 470, loss: 2238.907958984375\n",
      "Epoch 0, iter 480, loss: 1951.0413818359375\n",
      "Epoch 0, iter 490, loss: 1981.838134765625\n",
      "Epoch 0, iter 500, loss: 2111.6220703125\n",
      "Epoch 0, iter 510, loss: 1822.191162109375\n",
      "Epoch 0, iter 520, loss: 1782.6839599609375\n",
      "Epoch 0, iter 530, loss: 1657.522216796875\n",
      "Epoch 0, iter 540, loss: 1656.603271484375\n",
      "Epoch 0, iter 550, loss: 1392.4947509765625\n",
      "Epoch 0, iter 560, loss: 1258.513427734375\n",
      "Epoch 0, iter 570, loss: 1386.6407470703125\n",
      "Epoch 0, iter 580, loss: 1349.5814208984375\n",
      "Epoch 0, iter 590, loss: 1342.452392578125\n",
      "Epoch 0, iter 600, loss: 1129.099609375\n",
      "Epoch 0, iter 610, loss: 1008.0319213867188\n",
      "Epoch 0, iter 620, loss: 924.44775390625\n",
      "Epoch 0, iter 630, loss: 1118.688232421875\n",
      "Epoch 0, iter 640, loss: 788.1041870117188\n",
      "Epoch 0, iter 650, loss: 822.4049682617188\n",
      "Epoch 0, iter 660, loss: 763.4479370117188\n",
      "Epoch 0, iter 670, loss: 510.4700012207031\n",
      "Epoch 0, iter 680, loss: 665.186279296875\n",
      "Epoch 0, iter 690, loss: 547.1433715820312\n",
      "Epoch 0, iter 700, loss: 505.6245422363281\n",
      "Epoch 0, iter 710, loss: 558.0614624023438\n",
      "Epoch 0, iter 720, loss: 539.9291381835938\n",
      "Epoch 0, iter 730, loss: 356.0668029785156\n",
      "Epoch 0, iter 740, loss: 421.0206604003906\n",
      "Epoch 0, iter 750, loss: 480.06488037109375\n",
      "Epoch 0, iter 760, loss: 375.62347412109375\n",
      "Epoch 0, iter 770, loss: 333.3089294433594\n",
      "Epoch 0, iter 780, loss: 295.617431640625\n",
      "Epoch 0, iter 790, loss: 329.5756530761719\n",
      "Epoch 0, iter 800, loss: 215.09510803222656\n",
      "Epoch 0, iter 810, loss: 207.30307006835938\n",
      "Epoch 0, iter 820, loss: 249.28512573242188\n"
     ]
    }
   ],
   "source": [
    "epochs=20\n",
    "for epoch in range(epochs):\n",
    "    for i, (imgs,kps) in enumerate(train_loader):\n",
    "        imgs = imgs.to(device)\n",
    "        kps = kps.to(device)\n",
    "\n",
    "        optimizer.zero_grad()\n",
    "        outputs = model(imgs)\n",
    "        loss = criterion(outputs, kps)\n",
    "        loss.backward()\n",
    "        optimizer.step()\n",
    "\n",
    "        if i % 10 == 0:\n",
    "            print(f\"Epoch {epoch}, iter {i}, loss: {loss.item()}\")"
   ]
  },
  {
   "cell_type": "code",
   "execution_count": 19,
   "metadata": {},
   "outputs": [],
   "source": [
    "# Save predicted keypoints\n",
    "torch.save(model.state_dict(), \"keypoints_model.pth\")"
   ]
  }
 ],
 "metadata": {
  "kernelspec": {
   "display_name": "Python 3",
   "language": "python",
   "name": "python3"
  },
  "language_info": {
   "codemirror_mode": {
    "name": "ipython",
    "version": 3
   },
   "file_extension": ".py",
   "mimetype": "text/x-python",
   "name": "python",
   "nbconvert_exporter": "python",
   "pygments_lexer": "ipython3",
   "version": "3.12.7"
  }
 },
 "nbformat": 4,
 "nbformat_minor": 2
}
