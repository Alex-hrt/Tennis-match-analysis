{
 "cells": [
  {
   "cell_type": "markdown",
   "id": "657f1ecd",
   "metadata": {},
   "source": [
    "# Tennis Ball Detection Training"
   ]
  },
  {
   "cell_type": "markdown",
   "id": "f7f816fd",
   "metadata": {},
   "source": [
    "## Download Dataset"
   ]
  },
  {
   "cell_type": "markdown",
   "id": "8075a135",
   "metadata": {},
   "source": [
    "Training dataset from [Viren Dhanwani on Roboflow ↗](https://universe.roboflow.com/viren-dhanwani/tennis-ball-detection)\n",
    "\n",
    "You will need a Roboflow API key to download and use the dataset ([get your API key here ↗](https://docs.roboflow.com/api-reference/authentication))"
   ]
  },
  {
   "cell_type": "markdown",
   "id": "702e1151",
   "metadata": {},
   "source": [
    "### Downloading Locally"
   ]
  },
  {
   "cell_type": "markdown",
   "id": "c55f8a10",
   "metadata": {},
   "source": [
    "To use your key, create a `.env` file at the root of your project, and add `API_KEY=<YOUR_API_KEY_HERE>`"
   ]
  },
  {
   "cell_type": "code",
   "execution_count": null,
   "id": "ebd240b6",
   "metadata": {},
   "outputs": [],
   "source": [
    "# Download dependencies\n",
    "!pip install python-dotenv"
   ]
  },
  {
   "cell_type": "code",
   "execution_count": null,
   "id": "336a6379",
   "metadata": {},
   "outputs": [],
   "source": [
    "import os\n",
    "from dotenv import load_dotenv\n",
    "\n",
    "# Load environment variables from the .env file\n",
    "load_dotenv('../.env')\n",
    "\n",
    "# Download dataset\n",
    "from roboflow import Roboflow\n",
    "\n",
    "rf = Roboflow(api_key=os.getenv(\"API_KEY\"))\n",
    "\n",
    "project = rf.workspace(\"viren-dhanwani\").project(\"tennis-ball-detection\")\n",
    "version = project.version(6)\n",
    "dataset = version.download(\"yolov11\")"
   ]
  },
  {
   "cell_type": "markdown",
   "id": "4fe7e44c",
   "metadata": {},
   "source": [
    "### Downloading in the Cloud"
   ]
  },
  {
   "cell_type": "code",
   "execution_count": null,
   "id": "fc0d8cdd-c03e-4556-8eb4-0779b8247f5b",
   "metadata": {
    "tags": []
   },
   "outputs": [],
   "source": [
    "# Download dependencies\n",
    "!pip install roboflow\n",
    "!pip install ultralytics"
   ]
  },
  {
   "cell_type": "code",
   "execution_count": null,
   "id": "8ba6c675-3154-4edc-bf0a-02221be80c4b",
   "metadata": {
    "tags": []
   },
   "outputs": [],
   "source": [
    "# Download dataset\n",
    "from roboflow import Roboflow\n",
    "\n",
    "# Add your API key\n",
    "rf = Roboflow(api_key=\"<YOUR_API_KEY_HERE>\")\n",
    "\n",
    "project = rf.workspace(\"viren-dhanwani\").project(\"tennis-ball-detection\")\n",
    "version = project.version(6)\n",
    "dataset = version.download(\"yolov11\")"
   ]
  },
  {
   "cell_type": "markdown",
   "id": "ea9d0d77",
   "metadata": {},
   "source": [
    "## Running the Training"
   ]
  },
  {
   "cell_type": "markdown",
   "id": "eb72122a",
   "metadata": {},
   "source": [
    "You might need to adjust the `epochs`, `imgsz` and/or `batch` values depending on your available compute power and time requirements\n",
    "\n",
    "(Model was run in a AWS SageMaker instance, with a `ml.g4dn.xlarge` notebook type and took ~1h to compute)\n",
    "\n",
    "Download the outputed weights from `training/runs/detect/trainX/weights` and add them to the `models` folder"
   ]
  },
  {
   "cell_type": "code",
   "execution_count": null,
   "id": "4ad965b5-9414-49fd-8cb2-daf9ef27da9e",
   "metadata": {
    "tags": []
   },
   "outputs": [],
   "source": [
    "import torch\n",
    "torch.cuda.empty_cache()"
   ]
  },
  {
   "cell_type": "code",
   "execution_count": null,
   "id": "92d45211-8c70-4624-8751-6fb3d2012e06",
   "metadata": {
    "tags": []
   },
   "outputs": [],
   "source": [
    "!yolo task=detect mode=train model=yolo11x.pt data={dataset.location}/data.yaml epochs=100 imgsz=640 batch=4"
   ]
  }
 ],
 "metadata": {
  "kernelspec": {
   "display_name": "Python 3",
   "language": "python",
   "name": "python3"
  },
  "language_info": {
   "codemirror_mode": {
    "name": "ipython",
    "version": 3
   },
   "file_extension": ".py",
   "mimetype": "text/x-python",
   "name": "python",
   "nbconvert_exporter": "python",
   "pygments_lexer": "ipython3",
   "version": "3.12.7"
  }
 },
 "nbformat": 4,
 "nbformat_minor": 5
}
